{
 "cells": [
  {
   "cell_type": "markdown",
   "metadata": {},
   "source": [
    "# DESCARGA DE NOTICIAS DE GOOGLE (GOOGLE NEWS)\n",
    "\n",
    "Este notebook describe el paso a paso que permitirá descargar las noticias que aparecen en Google"
   ]
  },
  {
   "cell_type": "markdown",
   "metadata": {},
   "source": [
    "### Paso 1: Instalación de software necesario\n",
    "\n",
    "--- Python\n",
    "\n",
    "Puede obtenerse instalando [Anaconda](https://www.anaconda.com). Para ello, ingrese [aquí](https://www.anaconda.com/products/distribution), descargue el instalador y ejecútelo.\n",
    "\n",
    "--- Git\n",
    "\n",
    "Ingrese [aquí](https://git-scm.com/downloads), descargue el instalador y ejecútelo."
   ]
  },
  {
   "cell_type": "markdown",
   "metadata": {},
   "source": [
    "### Paso 2: Instalación de dependencias\n",
    "\n",
    "Para ello, ejecute la siguiente celda"
   ]
  },
  {
   "cell_type": "code",
   "execution_count": null,
   "metadata": {},
   "outputs": [],
   "source": [
    "!pip install scrapy==2.6.1\n",
    "!pip install scrapy-splash==0.8.0\n",
    "!pip install pyodbc==4.0.32\n",
    "!pip install pysftp==0.2.9\n",
    "!pip install ipywidgets==7.6.5\n",
    "!pip install html2text==2020.1.16"
   ]
  },
  {
   "cell_type": "markdown",
   "metadata": {},
   "source": [
    "### Paso 2.1: Carga de librerías necesarias\n",
    "\n",
    "Para ello, ejecute la siguiente celda"
   ]
  },
  {
   "cell_type": "code",
   "execution_count": 1,
   "metadata": {},
   "outputs": [
    {
     "name": "stdout",
     "output_type": "stream",
     "text": [
      "LIBRERÍAS IMPORTADAS CORRECTAMENTE\n"
     ]
    }
   ],
   "source": [
    "from IPython.display import clear_output\n",
    "import pandas as pd\n",
    "from toolbox import get_date_inputs, upload_to_lz, clean_news, save_local\n",
    "\n",
    "print('LIBRERÍAS IMPORTADAS CORRECTAMENTE')"
   ]
  },
  {
   "cell_type": "markdown",
   "metadata": {},
   "source": [
    "### Paso 3: Descarga de la última versión del código fuente (código que permitirá la descarga de las noticias)\n",
    "\n",
    "Para ello, es necesario ejecutar la siguiente celda"
   ]
  },
  {
   "cell_type": "code",
   "execution_count": 4,
   "metadata": {},
   "outputs": [
    {
     "name": "stdout",
     "output_type": "stream",
     "text": [
      "'�ERROR!: EL CODIGO NO PUDO SER DESCARGADO. REVISE CONEXION Y VPN'\n"
     ]
    }
   ],
   "source": [
    "!if exist google_news_scraper (rmdir /s /q google_news_scraper)\n",
    "\n",
    "REPOSITORY_URL = 'https://github.com/daneelfx/google_news_scraper'\n",
    "\n",
    "!git clone $REPOSITORY_URL\n",
    "clear_output(wait = True)\n",
    "\n",
    "!if exist google_news_scraper (echo 'LA ULTIMA VERSION DEL CODIGO FUE DESCARGADA EXITOSAMENTE') else (echo '¡ERROR!: EL CODIGO NO PUDO SER DESCARGADO. REVISE CONEXION Y VPN')"
   ]
  },
  {
   "cell_type": "markdown",
   "metadata": {},
   "source": [
    "### Paso 4: Descarga de las noticias de interés\n",
    "\n",
    "Las noticias se pueden filtrar por:\n"
   ]
  },
  {
   "cell_type": "markdown",
   "metadata": {},
   "source": [
    "* *Términos de búsqueda*  \n",
    "\n",
    "Inmediatamente después de la siguiente celda usted tendrá la oportunidad de ingresar los términos sobre los cuales quiere buscar noticias. Cada vez que le aparezca\n",
    "un campo para ingresar texto escriba el término de interés y presione la tecla *enter*. Por favor no escriba palabras que no agregan significado; por ejemplo, en vez de escribir \"Banco de la República\" escriba \"Banco República\", o en vez de \"Grupo de Energía de Bogotá\" escriba \"Grupo Energía Bogotá\". Si ya escribió todos los términos de interés, en vez de escribir uno adicional presione la tecla *enter*.\n",
    "En caso de que quiera buscar todas las noticias (es decir, todas y absolutamente todas las que el programa encuentre), simplemente presione la tecla *enter* cuando le aparezca por primera vez el campo de texto."
   ]
  },
  {
   "cell_type": "code",
   "execution_count": null,
   "metadata": {},
   "outputs": [],
   "source": [
    "SEARCH_TERMS = []\n",
    "\n",
    "while True:\n",
    "  search_term = input('Ingrese el término de búsqueda o presione la tecla ENTER para terminar\\n').strip().upper()\n",
    "  if not search_term:\n",
    "    break\n",
    "  SEARCH_TERMS.append(search_term)\n",
    "\n",
    "print(f'Términos de búsqueda: {SEARCH_TERMS}' if SEARCH_TERMS else 'LOS TÉRMINOS DE BÚSQUEDA NO FUERON INGRESADOS')"
   ]
  },
  {
   "cell_type": "markdown",
   "metadata": {},
   "source": [
    "* *Lenguaje de búsqueda*  \n",
    "\n",
    "Pueden obtenerse resultados en inglés o en español"
   ]
  },
  {
   "cell_type": "code",
   "execution_count": null,
   "metadata": {},
   "outputs": [],
   "source": [
    "language = 'en' if input('Ingrese el idioma de búsqueda (\"es\" para español y \"en\" para inglés)').strip().lower() == 'en' else 'es'\n",
    "language"
   ]
  },
  {
   "cell_type": "markdown",
   "metadata": {},
   "source": [
    "* *Fechas inicial y final*\n",
    "\n",
    "De la misma manera, inmediatamente después de siguiente celda debe indicar el periodo en el que se quieren buscar noticias. Para ello, ingrese el mes (por ejemplo: \"Febrero\") y el año (por ejemplo: 2021) inicial y el mes y el año final."
   ]
  },
  {
   "cell_type": "code",
   "execution_count": null,
   "metadata": {},
   "outputs": [],
   "source": [
    "start_day, start_month, start_year, end_day, end_month, end_year = get_date_inputs()"
   ]
  },
  {
   "cell_type": "code",
   "execution_count": null,
   "metadata": {},
   "outputs": [],
   "source": [
    "SEARCH_TERMS = ['GRUPO ARGOS'] #, 'BANCO BOGOTA'] #, 'BANCOLOMBIA', 'CEMENTOS ARGOS', 'CELSIA', 'CORFICOLOMBIANA', 'DAVIVIENDA', 'ECOPETROL', 'GRUPO AVAL', 'GRUPO ENERGIA BOGOTA', 'ISA', 'NUTRESA', 'GRUPO SURA']\n",
    "language = 'es'\n",
    "start_day, start_month, start_year, end_day, end_month, end_year = 1, 1, 2022, 1, 1, 2022"
   ]
  },
  {
   "cell_type": "code",
   "execution_count": null,
   "metadata": {},
   "outputs": [],
   "source": [
    "!if exist news (rmdir /s /q news)\n",
    "SEARCH_TERMS_STR = ','.join(SEARCH_TERMS)\n",
    "current_year = int(start_year)\n",
    "end_year = int(end_year)\n",
    "\n",
    "while current_year <= end_year:\n",
    "  current_start_date = f'{current_year}-{start_month if current_year == int(start_year) else \"01\"}-{start_day if current_year == int(start_year) else \"01\"}'\n",
    "  current_end_date = f'{current_year}-{12 if current_year < end_year else end_month}-{31 if current_year < end_year else end_day}'\n",
    "  !cd google_news_scraper && scrapy crawl news -a search_terms=\"$SEARCH_TERMS_STR\" -a start_date=$current_start_date -a end_date=$current_end_date -a language=$language -o ..\\news\\news-\"$current_year\".csv\n",
    "  # clear_output(wait = True)\n",
    "  current_year += 1\n",
    "\n",
    "# clear_output(wait = False)\n",
    "!if exist news (echo 'NOTICIAS DESCARGADAS CON EXITO') else (echo '¡ERROR!: ALGO OCURRIO, INTENTE NUEVAMENTE ')"
   ]
  },
  {
   "cell_type": "markdown",
   "metadata": {},
   "source": [
    "### Paso 5: Limpieza de texto y filtrado de las noticias\n",
    "\n",
    "Las noticias obtenidas tienen algunos caracteres y textos no deseados. Adicionalmente, algunos resultados están duplicados, así como otros que no coinciden con el término de busqueda empleado en ésta. Para limpiar el texto y filtrar las noticias, ejecute la celda inferior."
   ]
  },
  {
   "cell_type": "code",
   "execution_count": null,
   "metadata": {},
   "outputs": [],
   "source": [
    "for current_year in range(int(start_year), int(end_year) + 1):\n",
    "  current_news = pd.read_csv(f'news/news-{current_year}.csv')\n",
    "  current_news = current_news.astype(str)\n",
    "  \n",
    "  news_cleaned = clean_news(current_news)\n",
    "  !del news\\news-\"$current_year\".csv\n",
    "  news_cleaned.to_csv(f'news/news-{current_year}.csv', index = False)\n",
    "  print(f'NOTICIAS DEL AÑO {current_year} FUERON LIMPIADAS Y FILTRADAS')\n",
    "\n",
    "print('*' * 50)\n",
    "print('LIMPIEZA Y FILTRADO CONCLUYERON EXITOSAMENTE')"
   ]
  },
  {
   "cell_type": "markdown",
   "metadata": {},
   "source": [
    "### Paso 5.1 (OPCIONAL): Persistencia de las noticias (destino: local)\n",
    "Las noticias serán guardadas en el mismo directorio de este notebook como **ALL_NEWS.csv**"
   ]
  },
  {
   "cell_type": "code",
   "execution_count": null,
   "metadata": {},
   "outputs": [],
   "source": [
    "save_local('news', 'ALL_NEWS')"
   ]
  },
  {
   "cell_type": "markdown",
   "metadata": {},
   "source": [
    "### Paso 5.2 (OPCIONAL): Persistencia de las noticias (destino: nube)\n",
    "En caso de querer subir información a la nube se debe utilizar el método **upload_to_lz()**, en donde *database* es el nombre de la base de datos a la cual usted esté autorizado y *table_name* el nombre con el que la tabla quedará cargada en la nube. Tenga en cuenta que en el mismo directorio de este notebook debe existir un archivo llamado **credentials.json**, debe contener lo siguiente: **{ \"user\": \"su_usuario\", \"password\": \"su_contraseña\", \"server\": \"sbmdeblze004\" }**"
   ]
  },
  {
   "cell_type": "code",
   "execution_count": null,
   "metadata": {},
   "outputs": [],
   "source": [
    "save_local('news', 'ALL_NEWS')\n",
    "all_news = pd.read_csv('ALL_NEWS.csv')\n",
    "all_news = all_news.astype(str)\n",
    "\n",
    "database = 'proceso'\n",
    "table_name = 'dasolano_google_news'\n",
    "\n",
    "upload_to_lz(dataframe = all_news, database = database, table_name = table_name)\n",
    "clear_output(wait = True)\n",
    "!del ALL_NEWS.csv\n",
    "print(f'LAS NOTICIAS HAN SIDO CARGADAS A LA NUBE EXITOSAMENTE. UBICACIÓN LZ: {database}.{table_name}')"
   ]
  }
 ],
 "metadata": {
  "interpreter": {
   "hash": "ad2bdc8ecc057115af97d19610ffacc2b4e99fae6737bb82f5d7fb13d2f2c186"
  },
  "kernelspec": {
   "display_name": "Python 3.9.7 ('base')",
   "language": "python",
   "name": "python3"
  },
  "language_info": {
   "codemirror_mode": {
    "name": "ipython",
    "version": 3
   },
   "file_extension": ".py",
   "mimetype": "text/x-python",
   "name": "python",
   "nbconvert_exporter": "python",
   "pygments_lexer": "ipython3",
   "version": "3.9.7"
  }
 },
 "nbformat": 4,
 "nbformat_minor": 2
}
